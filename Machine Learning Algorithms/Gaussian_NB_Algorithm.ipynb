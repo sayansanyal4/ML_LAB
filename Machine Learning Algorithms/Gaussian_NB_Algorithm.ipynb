{
  "cells": [
    {
      "cell_type": "markdown",
      "id": "4b5c8b82",
      "metadata": {
        "id": "4b5c8b82"
      },
      "source": [
        "**Import necessary libraries**"
      ]
    },
    {
      "cell_type": "code",
      "execution_count": 2,
      "id": "b1a9a100",
      "metadata": {
        "id": "b1a9a100"
      },
      "outputs": [],
      "source": [
        "import numpy as np\n",
        "import pandas as pd\n",
        "import seaborn as sns\n",
        "import matplotlib.pyplot as plt\n",
        "from sklearn.preprocessing import LabelEncoder\n",
        "from sklearn.model_selection import train_test_split\n",
        "from sklearn.preprocessing import StandardScaler\n",
        "from sklearn.naive_bayes import GaussianNB\n",
        "from sklearn.metrics import accuracy_score, classification_report, confusion_matrix"
      ]
    },
    {
      "cell_type": "markdown",
      "id": "95172104",
      "metadata": {
        "id": "95172104"
      },
      "source": [
        "**Load the dataset**"
      ]
    },
    {
      "cell_type": "code",
      "execution_count": 3,
      "id": "45314243",
      "metadata": {
        "id": "45314243"
      },
      "outputs": [],
      "source": [
        "# Assuming the dataset is in a CSV file named 'Social_Network_Ads.csv'\n",
        "df = pd.read_csv('../content/dataset1.csv')"
      ]
    },
    {
      "cell_type": "markdown",
      "id": "bacc286a",
      "metadata": {
        "id": "bacc286a"
      },
      "source": [
        "**Dataset Visualization**"
      ]
    },
    {
      "cell_type": "code",
      "execution_count": 4,
      "id": "6e75eb7a",
      "metadata": {
        "id": "6e75eb7a",
        "outputId": "9ccf7d1c-b830-48b8-9b8f-5129ede4aa67",
        "colab": {
          "base_uri": "https://localhost:8080/",
          "height": 206
        }
      },
      "outputs": [
        {
          "output_type": "execute_result",
          "data": {
            "text/plain": [
              "    User ID  Gender  Age  EstimatedSalary  Purchased\n",
              "0  15624510    Male   19            19000          0\n",
              "1  15810944    Male   35            20000          0\n",
              "2  15668575  Female   26            43000          0\n",
              "3  15603246  Female   27            57000          0\n",
              "4  15804002    Male   19            76000          0"
            ],
            "text/html": [
              "\n",
              "  <div id=\"df-3896f06a-fa94-4f5d-988f-bb611ded2ab4\" class=\"colab-df-container\">\n",
              "    <div>\n",
              "<style scoped>\n",
              "    .dataframe tbody tr th:only-of-type {\n",
              "        vertical-align: middle;\n",
              "    }\n",
              "\n",
              "    .dataframe tbody tr th {\n",
              "        vertical-align: top;\n",
              "    }\n",
              "\n",
              "    .dataframe thead th {\n",
              "        text-align: right;\n",
              "    }\n",
              "</style>\n",
              "<table border=\"1\" class=\"dataframe\">\n",
              "  <thead>\n",
              "    <tr style=\"text-align: right;\">\n",
              "      <th></th>\n",
              "      <th>User ID</th>\n",
              "      <th>Gender</th>\n",
              "      <th>Age</th>\n",
              "      <th>EstimatedSalary</th>\n",
              "      <th>Purchased</th>\n",
              "    </tr>\n",
              "  </thead>\n",
              "  <tbody>\n",
              "    <tr>\n",
              "      <th>0</th>\n",
              "      <td>15624510</td>\n",
              "      <td>Male</td>\n",
              "      <td>19</td>\n",
              "      <td>19000</td>\n",
              "      <td>0</td>\n",
              "    </tr>\n",
              "    <tr>\n",
              "      <th>1</th>\n",
              "      <td>15810944</td>\n",
              "      <td>Male</td>\n",
              "      <td>35</td>\n",
              "      <td>20000</td>\n",
              "      <td>0</td>\n",
              "    </tr>\n",
              "    <tr>\n",
              "      <th>2</th>\n",
              "      <td>15668575</td>\n",
              "      <td>Female</td>\n",
              "      <td>26</td>\n",
              "      <td>43000</td>\n",
              "      <td>0</td>\n",
              "    </tr>\n",
              "    <tr>\n",
              "      <th>3</th>\n",
              "      <td>15603246</td>\n",
              "      <td>Female</td>\n",
              "      <td>27</td>\n",
              "      <td>57000</td>\n",
              "      <td>0</td>\n",
              "    </tr>\n",
              "    <tr>\n",
              "      <th>4</th>\n",
              "      <td>15804002</td>\n",
              "      <td>Male</td>\n",
              "      <td>19</td>\n",
              "      <td>76000</td>\n",
              "      <td>0</td>\n",
              "    </tr>\n",
              "  </tbody>\n",
              "</table>\n",
              "</div>\n",
              "    <div class=\"colab-df-buttons\">\n",
              "\n",
              "  <div class=\"colab-df-container\">\n",
              "    <button class=\"colab-df-convert\" onclick=\"convertToInteractive('df-3896f06a-fa94-4f5d-988f-bb611ded2ab4')\"\n",
              "            title=\"Convert this dataframe to an interactive table.\"\n",
              "            style=\"display:none;\">\n",
              "\n",
              "  <svg xmlns=\"http://www.w3.org/2000/svg\" height=\"24px\" viewBox=\"0 -960 960 960\">\n",
              "    <path d=\"M120-120v-720h720v720H120Zm60-500h600v-160H180v160Zm220 220h160v-160H400v160Zm0 220h160v-160H400v160ZM180-400h160v-160H180v160Zm440 0h160v-160H620v160ZM180-180h160v-160H180v160Zm440 0h160v-160H620v160Z\"/>\n",
              "  </svg>\n",
              "    </button>\n",
              "\n",
              "  <style>\n",
              "    .colab-df-container {\n",
              "      display:flex;\n",
              "      gap: 12px;\n",
              "    }\n",
              "\n",
              "    .colab-df-convert {\n",
              "      background-color: #E8F0FE;\n",
              "      border: none;\n",
              "      border-radius: 50%;\n",
              "      cursor: pointer;\n",
              "      display: none;\n",
              "      fill: #1967D2;\n",
              "      height: 32px;\n",
              "      padding: 0 0 0 0;\n",
              "      width: 32px;\n",
              "    }\n",
              "\n",
              "    .colab-df-convert:hover {\n",
              "      background-color: #E2EBFA;\n",
              "      box-shadow: 0px 1px 2px rgba(60, 64, 67, 0.3), 0px 1px 3px 1px rgba(60, 64, 67, 0.15);\n",
              "      fill: #174EA6;\n",
              "    }\n",
              "\n",
              "    .colab-df-buttons div {\n",
              "      margin-bottom: 4px;\n",
              "    }\n",
              "\n",
              "    [theme=dark] .colab-df-convert {\n",
              "      background-color: #3B4455;\n",
              "      fill: #D2E3FC;\n",
              "    }\n",
              "\n",
              "    [theme=dark] .colab-df-convert:hover {\n",
              "      background-color: #434B5C;\n",
              "      box-shadow: 0px 1px 3px 1px rgba(0, 0, 0, 0.15);\n",
              "      filter: drop-shadow(0px 1px 2px rgba(0, 0, 0, 0.3));\n",
              "      fill: #FFFFFF;\n",
              "    }\n",
              "  </style>\n",
              "\n",
              "    <script>\n",
              "      const buttonEl =\n",
              "        document.querySelector('#df-3896f06a-fa94-4f5d-988f-bb611ded2ab4 button.colab-df-convert');\n",
              "      buttonEl.style.display =\n",
              "        google.colab.kernel.accessAllowed ? 'block' : 'none';\n",
              "\n",
              "      async function convertToInteractive(key) {\n",
              "        const element = document.querySelector('#df-3896f06a-fa94-4f5d-988f-bb611ded2ab4');\n",
              "        const dataTable =\n",
              "          await google.colab.kernel.invokeFunction('convertToInteractive',\n",
              "                                                    [key], {});\n",
              "        if (!dataTable) return;\n",
              "\n",
              "        const docLinkHtml = 'Like what you see? Visit the ' +\n",
              "          '<a target=\"_blank\" href=https://colab.research.google.com/notebooks/data_table.ipynb>data table notebook</a>'\n",
              "          + ' to learn more about interactive tables.';\n",
              "        element.innerHTML = '';\n",
              "        dataTable['output_type'] = 'display_data';\n",
              "        await google.colab.output.renderOutput(dataTable, element);\n",
              "        const docLink = document.createElement('div');\n",
              "        docLink.innerHTML = docLinkHtml;\n",
              "        element.appendChild(docLink);\n",
              "      }\n",
              "    </script>\n",
              "  </div>\n",
              "\n",
              "\n",
              "<div id=\"df-4585ac98-efa2-4d2b-8970-6f161b69483c\">\n",
              "  <button class=\"colab-df-quickchart\" onclick=\"quickchart('df-4585ac98-efa2-4d2b-8970-6f161b69483c')\"\n",
              "            title=\"Suggest charts\"\n",
              "            style=\"display:none;\">\n",
              "\n",
              "<svg xmlns=\"http://www.w3.org/2000/svg\" height=\"24px\"viewBox=\"0 0 24 24\"\n",
              "     width=\"24px\">\n",
              "    <g>\n",
              "        <path d=\"M19 3H5c-1.1 0-2 .9-2 2v14c0 1.1.9 2 2 2h14c1.1 0 2-.9 2-2V5c0-1.1-.9-2-2-2zM9 17H7v-7h2v7zm4 0h-2V7h2v10zm4 0h-2v-4h2v4z\"/>\n",
              "    </g>\n",
              "</svg>\n",
              "  </button>\n",
              "\n",
              "<style>\n",
              "  .colab-df-quickchart {\n",
              "      --bg-color: #E8F0FE;\n",
              "      --fill-color: #1967D2;\n",
              "      --hover-bg-color: #E2EBFA;\n",
              "      --hover-fill-color: #174EA6;\n",
              "      --disabled-fill-color: #AAA;\n",
              "      --disabled-bg-color: #DDD;\n",
              "  }\n",
              "\n",
              "  [theme=dark] .colab-df-quickchart {\n",
              "      --bg-color: #3B4455;\n",
              "      --fill-color: #D2E3FC;\n",
              "      --hover-bg-color: #434B5C;\n",
              "      --hover-fill-color: #FFFFFF;\n",
              "      --disabled-bg-color: #3B4455;\n",
              "      --disabled-fill-color: #666;\n",
              "  }\n",
              "\n",
              "  .colab-df-quickchart {\n",
              "    background-color: var(--bg-color);\n",
              "    border: none;\n",
              "    border-radius: 50%;\n",
              "    cursor: pointer;\n",
              "    display: none;\n",
              "    fill: var(--fill-color);\n",
              "    height: 32px;\n",
              "    padding: 0;\n",
              "    width: 32px;\n",
              "  }\n",
              "\n",
              "  .colab-df-quickchart:hover {\n",
              "    background-color: var(--hover-bg-color);\n",
              "    box-shadow: 0 1px 2px rgba(60, 64, 67, 0.3), 0 1px 3px 1px rgba(60, 64, 67, 0.15);\n",
              "    fill: var(--button-hover-fill-color);\n",
              "  }\n",
              "\n",
              "  .colab-df-quickchart-complete:disabled,\n",
              "  .colab-df-quickchart-complete:disabled:hover {\n",
              "    background-color: var(--disabled-bg-color);\n",
              "    fill: var(--disabled-fill-color);\n",
              "    box-shadow: none;\n",
              "  }\n",
              "\n",
              "  .colab-df-spinner {\n",
              "    border: 2px solid var(--fill-color);\n",
              "    border-color: transparent;\n",
              "    border-bottom-color: var(--fill-color);\n",
              "    animation:\n",
              "      spin 1s steps(1) infinite;\n",
              "  }\n",
              "\n",
              "  @keyframes spin {\n",
              "    0% {\n",
              "      border-color: transparent;\n",
              "      border-bottom-color: var(--fill-color);\n",
              "      border-left-color: var(--fill-color);\n",
              "    }\n",
              "    20% {\n",
              "      border-color: transparent;\n",
              "      border-left-color: var(--fill-color);\n",
              "      border-top-color: var(--fill-color);\n",
              "    }\n",
              "    30% {\n",
              "      border-color: transparent;\n",
              "      border-left-color: var(--fill-color);\n",
              "      border-top-color: var(--fill-color);\n",
              "      border-right-color: var(--fill-color);\n",
              "    }\n",
              "    40% {\n",
              "      border-color: transparent;\n",
              "      border-right-color: var(--fill-color);\n",
              "      border-top-color: var(--fill-color);\n",
              "    }\n",
              "    60% {\n",
              "      border-color: transparent;\n",
              "      border-right-color: var(--fill-color);\n",
              "    }\n",
              "    80% {\n",
              "      border-color: transparent;\n",
              "      border-right-color: var(--fill-color);\n",
              "      border-bottom-color: var(--fill-color);\n",
              "    }\n",
              "    90% {\n",
              "      border-color: transparent;\n",
              "      border-bottom-color: var(--fill-color);\n",
              "    }\n",
              "  }\n",
              "</style>\n",
              "\n",
              "  <script>\n",
              "    async function quickchart(key) {\n",
              "      const quickchartButtonEl =\n",
              "        document.querySelector('#' + key + ' button');\n",
              "      quickchartButtonEl.disabled = true;  // To prevent multiple clicks.\n",
              "      quickchartButtonEl.classList.add('colab-df-spinner');\n",
              "      try {\n",
              "        const charts = await google.colab.kernel.invokeFunction(\n",
              "            'suggestCharts', [key], {});\n",
              "      } catch (error) {\n",
              "        console.error('Error during call to suggestCharts:', error);\n",
              "      }\n",
              "      quickchartButtonEl.classList.remove('colab-df-spinner');\n",
              "      quickchartButtonEl.classList.add('colab-df-quickchart-complete');\n",
              "    }\n",
              "    (() => {\n",
              "      let quickchartButtonEl =\n",
              "        document.querySelector('#df-4585ac98-efa2-4d2b-8970-6f161b69483c button');\n",
              "      quickchartButtonEl.style.display =\n",
              "        google.colab.kernel.accessAllowed ? 'block' : 'none';\n",
              "    })();\n",
              "  </script>\n",
              "</div>\n",
              "\n",
              "    </div>\n",
              "  </div>\n"
            ],
            "application/vnd.google.colaboratory.intrinsic+json": {
              "type": "dataframe",
              "variable_name": "df",
              "summary": "{\n  \"name\": \"df\",\n  \"rows\": 20,\n  \"fields\": [\n    {\n      \"column\": \"User ID\",\n      \"properties\": {\n        \"dtype\": \"number\",\n        \"std\": 71596,\n        \"min\": 15570769,\n        \"max\": 15810944,\n        \"num_unique_values\": 20,\n        \"samples\": [\n          15624510,\n          15649487,\n          15704583\n        ],\n        \"semantic_type\": \"\",\n        \"description\": \"\"\n      }\n    },\n    {\n      \"column\": \"Gender\",\n      \"properties\": {\n        \"dtype\": \"category\",\n        \"num_unique_values\": 2,\n        \"samples\": [\n          \"Female\",\n          \"Male\"\n        ],\n        \"semantic_type\": \"\",\n        \"description\": \"\"\n      }\n    },\n    {\n      \"column\": \"Age\",\n      \"properties\": {\n        \"dtype\": \"number\",\n        \"std\": 10,\n        \"min\": 19,\n        \"max\": 48,\n        \"num_unique_values\": 11,\n        \"samples\": [\n          25,\n          19\n        ],\n        \"semantic_type\": \"\",\n        \"description\": \"\"\n      }\n    },\n    {\n      \"column\": \"EstimatedSalary\",\n      \"properties\": {\n        \"dtype\": \"number\",\n        \"std\": 32010,\n        \"min\": 19000,\n        \"max\": 150000,\n        \"num_unique_values\": 20,\n        \"samples\": [\n          19000,\n          22000\n        ],\n        \"semantic_type\": \"\",\n        \"description\": \"\"\n      }\n    },\n    {\n      \"column\": \"Purchased\",\n      \"properties\": {\n        \"dtype\": \"number\",\n        \"std\": 0,\n        \"min\": 0,\n        \"max\": 1,\n        \"num_unique_values\": 2,\n        \"samples\": [\n          1,\n          0\n        ],\n        \"semantic_type\": \"\",\n        \"description\": \"\"\n      }\n    }\n  ]\n}"
            }
          },
          "metadata": {},
          "execution_count": 4
        }
      ],
      "source": [
        "df.head()"
      ]
    },
    {
      "cell_type": "code",
      "execution_count": 5,
      "id": "0983f22a",
      "metadata": {
        "id": "0983f22a",
        "outputId": "24da79da-75d3-4bb6-b530-fd3f0d7e22fd",
        "colab": {
          "base_uri": "https://localhost:8080/"
        }
      },
      "outputs": [
        {
          "output_type": "execute_result",
          "data": {
            "text/plain": [
              "(20, 5)"
            ]
          },
          "metadata": {},
          "execution_count": 5
        }
      ],
      "source": [
        "df.shape"
      ]
    },
    {
      "cell_type": "markdown",
      "id": "10e1f9de",
      "metadata": {
        "id": "10e1f9de"
      },
      "source": [
        "**EDA**"
      ]
    },
    {
      "cell_type": "code",
      "execution_count": 6,
      "id": "99707689",
      "metadata": {
        "id": "99707689",
        "outputId": "c59c38f2-fb62-4908-b4d7-e03af320f8d5",
        "colab": {
          "base_uri": "https://localhost:8080/",
          "height": 388
        }
      },
      "outputs": [
        {
          "output_type": "display_data",
          "data": {
            "text/plain": [
              "<Figure size 400x400 with 1 Axes>"
            ],
            "image/png": "[encoded data removed]"
          },
          "metadata": {}
        }
      ],
      "source": [
        "ax = plt.subplots(figsize = (4,4))\n",
        "ax = sns.countplot(x=df['Gender'])\n",
        "plt.show()"
      ]
    },
    {
      "cell_type": "code",
      "execution_count": 7,
      "id": "21e41ea5",
      "metadata": {
        "id": "21e41ea5",
        "outputId": "53268f58-6617-4e18-c467-c7362d657d5d",
        "colab": {
          "base_uri": "https://localhost:8080/",
          "height": 388
        }
      },
      "outputs": [
        {
          "output_type": "display_data",
          "data": {
            "text/plain": [
              "<Figure size 400x400 with 1 Axes>"
            ],
            "image/png": "[encoded data removed]"
          },
          "metadata": {}
        }
      ],
      "source": [
        "ax = plt.subplots(figsize = (4,4))\n",
        "ax = sns.countplot(x=df['Purchased'])\n",
        "plt.show()"
      ]
    },
    {
      "cell_type": "markdown",
      "id": "11927a84",
      "metadata": {
        "id": "11927a84"
      },
      "source": [
        "**Feature Extraction**"
      ]
    },
    {
      "cell_type": "code",
      "execution_count": 8,
      "id": "cc2f0fbc",
      "metadata": {
        "id": "cc2f0fbc"
      },
      "outputs": [],
      "source": [
        "# Separate features (X) and target variable (y)\n",
        "X = df.iloc[:, [1, 2, 3]].values  # Considering Gender, Age, and Estimated Salary as features\n",
        "y = df.iloc[:, 4].values  # Assuming 'Purchased' is the target variable"
      ]
    },
    {
      "cell_type": "markdown",
      "id": "599fc37a",
      "metadata": {
        "id": "599fc37a"
      },
      "source": [
        "**Use LabelEncoder for 'Gender' as 'Gender' is non-numeric**"
      ]
    },
    {
      "cell_type": "code",
      "execution_count": 9,
      "id": "40b9005f",
      "metadata": {
        "id": "40b9005f"
      },
      "outputs": [],
      "source": [
        "label_encoder = LabelEncoder()\n",
        "X[:, 0] = label_encoder.fit_transform(X[:, 0])"
      ]
    },
    {
      "cell_type": "markdown",
      "id": "e6110f28",
      "metadata": {
        "id": "e6110f28"
      },
      "source": [
        "**Split the dataset into training and testing sets**"
      ]
    },
    {
      "cell_type": "code",
      "execution_count": 10,
      "id": "54061a09",
      "metadata": {
        "id": "54061a09"
      },
      "outputs": [],
      "source": [
        "X_train, X_test, y_train, y_test = train_test_split(X, y, test_size=0.2, random_state=42)"
      ]
    },
    {
      "cell_type": "markdown",
      "id": "8304c43e",
      "metadata": {
        "id": "8304c43e"
      },
      "source": [
        "**Feature scaling**"
      ]
    },
    {
      "cell_type": "code",
      "execution_count": 11,
      "id": "9c15817b",
      "metadata": {
        "id": "9c15817b"
      },
      "outputs": [],
      "source": [
        "scaler = StandardScaler()\n",
        "X_train = scaler.fit_transform(X_train)\n",
        "X_test = scaler.transform(X_test)"
      ]
    },
    {
      "cell_type": "markdown",
      "id": "c9a0efd5",
      "metadata": {
        "id": "c9a0efd5"
      },
      "source": [
        "**Create a Gaussian Naive Bayes classifier**"
      ]
    },
    {
      "cell_type": "code",
      "execution_count": 12,
      "id": "1dbea799",
      "metadata": {
        "id": "1dbea799"
      },
      "outputs": [],
      "source": [
        "g_nb_classifier = GaussianNB()"
      ]
    },
    {
      "cell_type": "markdown",
      "id": "5f44bcc2",
      "metadata": {
        "id": "5f44bcc2"
      },
      "source": [
        "**Fit the model to the training data**"
      ]
    },
    {
      "cell_type": "code",
      "execution_count": 13,
      "id": "2dc748dc",
      "metadata": {
        "id": "2dc748dc",
        "outputId": "bebaaf77-d910-437f-a702-e8e6d889d53e",
        "colab": {
          "base_uri": "https://localhost:8080/",
          "height": 74
        }
      },
      "outputs": [
        {
          "output_type": "execute_result",
          "data": {
            "text/plain": [
              "GaussianNB()"
            ],
            "text/html": [
              "<style>#sk-container-id-1 {color: black;background-color: white;}#sk-container-id-1 pre{padding: 0;}#sk-container-id-1 div.sk-toggleable {background-color: white;}#sk-container-id-1 label.sk-toggleable__label {cursor: pointer;display: block;width: 100%;margin-bottom: 0;padding: 0.3em;box-sizing: border-box;text-align: center;}#sk-container-id-1 label.sk-toggleable__label-arrow:before {content: \"▸\";float: left;margin-right: 0.25em;color: #696969;}#sk-container-id-1 label.sk-toggleable__label-arrow:hover:before {color: black;}#sk-container-id-1 div.sk-estimator:hover label.sk-toggleable__label-arrow:before {color: black;}#sk-container-id-1 div.sk-toggleable__content {max-height: 0;max-width: 0;overflow: hidden;text-align: left;background-color: #f0f8ff;}#sk-container-id-1 div.sk-toggleable__content pre {margin: 0.2em;color: black;border-radius: 0.25em;background-color: #f0f8ff;}#sk-container-id-1 input.sk-toggleable__control:checked~div.sk-toggleable__content {max-height: 200px;max-width: 100%;overflow: auto;}#sk-container-id-1 input.sk-toggleable__control:checked~label.sk-toggleable__label-arrow:before {content: \"▾\";}#sk-container-id-1 div.sk-estimator input.sk-toggleable__control:checked~label.sk-toggleable__label {background-color: #d4ebff;}#sk-container-id-1 div.sk-label input.sk-toggleable__control:checked~label.sk-toggleable__label {background-color: #d4ebff;}#sk-container-id-1 input.sk-hidden--visually {border: 0;clip: rect(1px 1px 1px 1px);clip: rect(1px, 1px, 1px, 1px);height: 1px;margin: -1px;overflow: hidden;padding: 0;position: absolute;width: 1px;}#sk-container-id-1 div.sk-estimator {font-family: monospace;background-color: #f0f8ff;border: 1px dotted black;border-radius: 0.25em;box-sizing: border-box;margin-bottom: 0.5em;}#sk-container-id-1 div.sk-estimator:hover {background-color: #d4ebff;}#sk-container-id-1 div.sk-parallel-item::after {content: \"\";width: 100%;border-bottom: 1px solid gray;flex-grow: 1;}#sk-container-id-1 div.sk-label:hover label.sk-toggleable__label {background-color: #d4ebff;}#sk-container-id-1 div.sk-serial::before {content: \"\";position: absolute;border-left: 1px solid gray;box-sizing: border-box;top: 0;bottom: 0;left: 50%;z-index: 0;}#sk-container-id-1 div.sk-serial {display: flex;flex-direction: column;align-items: center;background-color: white;padding-right: 0.2em;padding-left: 0.2em;position: relative;}#sk-container-id-1 div.sk-item {position: relative;z-index: 1;}#sk-container-id-1 div.sk-parallel {display: flex;align-items: stretch;justify-content: center;background-color: white;position: relative;}#sk-container-id-1 div.sk-item::before, #sk-container-id-1 div.sk-parallel-item::before {content: \"\";position: absolute;border-left: 1px solid gray;box-sizing: border-box;top: 0;bottom: 0;left: 50%;z-index: -1;}#sk-container-id-1 div.sk-parallel-item {display: flex;flex-direction: column;z-index: 1;position: relative;background-color: white;}#sk-container-id-1 div.sk-parallel-item:first-child::after {align-self: flex-end;width: 50%;}#sk-container-id-1 div.sk-parallel-item:last-child::after {align-self: flex-start;width: 50%;}#sk-container-id-1 div.sk-parallel-item:only-child::after {width: 0;}#sk-container-id-1 div.sk-dashed-wrapped {border: 1px dashed gray;margin: 0 0.4em 0.5em 0.4em;box-sizing: border-box;padding-bottom: 0.4em;background-color: white;}#sk-container-id-1 div.sk-label label {font-family: monospace;font-weight: bold;display: inline-block;line-height: 1.2em;}#sk-container-id-1 div.sk-label-container {text-align: center;}#sk-container-id-1 div.sk-container {/* jupyter's `normalize.less` sets `[hidden] { display: none; }` but bootstrap.min.css set `[hidden] { display: none !important; }` so we also need the `!important` here to be able to override the default hidden behavior on the sphinx rendered scikit-learn.org. See: https://github.com/scikit-learn/scikit-learn/issues/21755 */display: inline-block !important;position: relative;}#sk-container-id-1 div.sk-text-repr-fallback {display: none;}</style><div id=\"sk-container-id-1\" class=\"sk-top-container\"><div class=\"sk-text-repr-fallback\"><pre>GaussianNB()</pre><b>In a Jupyter environment, please rerun this cell to show the HTML representation or trust the notebook. <br />On GitHub, the HTML representation is unable to render, please try loading this page with nbviewer.org.</b></div><div class=\"sk-container\" hidden><div class=\"sk-item\"><div class=\"sk-estimator sk-toggleable\"><input class=\"sk-toggleable__control sk-hidden--visually\" id=\"sk-estimator-id-1\" type=\"checkbox\" checked><label for=\"sk-estimator-id-1\" class=\"sk-toggleable__label sk-toggleable__label-arrow\">GaussianNB</label><div class=\"sk-toggleable__content\"><pre>GaussianNB()</pre></div></div></div></div></div>"
            ]
          },
          "metadata": {},
          "execution_count": 13
        }
      ],
      "source": [
        "g_nb_classifier.fit(X_train, y_train)"
      ]
    },
    {
      "cell_type": "markdown",
      "id": "7a3e9e8b",
      "metadata": {
        "id": "7a3e9e8b"
      },
      "source": [
        "**Make predictions on the test set**"
      ]
    },
    {
      "cell_type": "code",
      "execution_count": 14,
      "id": "b3464020",
      "metadata": {
        "id": "b3464020"
      },
      "outputs": [],
      "source": [
        "y_pred = g_nb_classifier.predict(X_test)"
      ]
    },
    {
      "cell_type": "markdown",
      "id": "d48cdb2f",
      "metadata": {
        "id": "d48cdb2f"
      },
      "source": [
        "**Evaluate the performance of the classifier**"
      ]
    },
    {
      "cell_type": "code",
      "execution_count": 15,
      "id": "a3bdcc64",
      "metadata": {
        "id": "a3bdcc64"
      },
      "outputs": [],
      "source": [
        "accuracy = accuracy_score(y_test, y_pred)\n",
        "conf_matrix = confusion_matrix(y_test, y_pred)\n",
        "classification_report_str = classification_report(y_test, y_pred)"
      ]
    },
    {
      "cell_type": "markdown",
      "id": "4cf340ae",
      "metadata": {
        "id": "4cf340ae"
      },
      "source": [
        "**Print the results**"
      ]
    },
    {
      "cell_type": "code",
      "execution_count": 16,
      "id": "ca473af2",
      "metadata": {
        "id": "ca473af2",
        "outputId": "67499509-0931-4c49-a4ed-15f3e4c9231e",
        "colab": {
          "base_uri": "https://localhost:8080/",
          "height": 568
        }
      },
      "outputs": [
        {
          "output_type": "stream",
          "name": "stdout",
          "text": [
            "Gaussian NB Accuracy: 0.75\n",
            "Gaussian NB Confusion Matrix:\n",
            "[[1 1]\n",
            " [0 2]]\n",
            "Gaussian NB Classification Report:\n",
            "              precision    recall  f1-score   support\n",
            "\n",
            "           0       1.00      0.50      0.67         2\n",
            "           1       0.67      1.00      0.80         2\n",
            "\n",
            "    accuracy                           0.75         4\n",
            "   macro avg       0.83      0.75      0.73         4\n",
            "weighted avg       0.83      0.75      0.73         4\n",
            "\n"
          ]
        },
        {
          "output_type": "display_data",
          "data": {
            "text/plain": [
              "<Figure size 600x300 with 2 Axes>"
            ],
            "image/png": "[encoded data removed]"
          },
          "metadata": {}
        }
      ],
      "source": [
        "print(f'Gaussian NB Accuracy: {accuracy}')\n",
        "print(f'Gaussian NB Confusion Matrix:\\n{conf_matrix}')\n",
        "sns.set(rc={'figure.figsize':(6,3)})\n",
        "sns.heatmap(confusion_matrix(y_test,y_pred),annot = True,fmt = 'd')\n",
        "plt.xlabel('Predicted Labels')\n",
        "plt.ylabel('Actual Labels')\n",
        "print(f'Gaussian NB Classification Report:\\n{classification_report_str}')"
      ]
    },
    {
      "cell_type": "markdown",
      "id": "748fa546",
      "metadata": {
        "id": "748fa546"
      },
      "source": [
        "**Predict whether a targeted audience or person will purchase the product or not**"
      ]
    },
    {
      "cell_type": "code",
      "execution_count": 17,
      "id": "423082e4",
      "metadata": {
        "id": "423082e4",
        "outputId": "b62662b7-f69b-4269-97c4-c295b4f6915d",
        "colab": {
          "base_uri": "https://localhost:8080/"
        }
      },
      "outputs": [
        {
          "output_type": "stream",
          "name": "stdout",
          "text": [
            "The targeted audience is predicted to purchase the product.\n"
          ]
        }
      ],
      "source": [
        "# Assuming we have a new set of feature values for prediction\n",
        "new_data = np.array([[0, 30, 50000]])  # Example: Gender (0 for Female, 1 for Male), Age, Estimated Salary\n",
        "\n",
        "# Use the trained Gaussian NB model to make predictions\n",
        "predicted_purchase = g_nb_classifier.predict(new_data)\n",
        "\n",
        "# Print the predicted outcome\n",
        "if predicted_purchase[0] == 1:\n",
        "    print(\"The targeted audience is predicted to purchase the product.\")\n",
        "else:\n",
        "    print(\"The targeted audience is predicted not to purchase the product.\")"
      ]
    },
    {
      "cell_type": "markdown",
      "id": "e21f7536",
      "metadata": {
        "id": "e21f7536"
      },
      "source": [
        "**Output Visualization using Bar Plot**"
      ]
    },
    {
      "cell_type": "code",
      "execution_count": 18,
      "id": "6c8d27f3",
      "metadata": {
        "id": "6c8d27f3",
        "outputId": "7fd17c48-8c82-4c7f-b814-ef704ba179cb",
        "colab": {
          "base_uri": "https://localhost:8080/",
          "height": 342
        }
      },
      "outputs": [
        {
          "output_type": "display_data",
          "data": {
            "text/plain": [
              "<Figure size 600x300 with 1 Axes>"
            ],
            "image/png": "[encoded data removed]"
          },
          "metadata": {}
        }
      ],
      "source": [
        "# Assuming we have already evaluated the model and obtained these metrics, hence plotting the same in a bar plot\n",
        "accuracy = 0.9375\n",
        "precision = 0.94\n",
        "recall = 0.94\n",
        "f1_score = 0.94\n",
        "\n",
        "# Plotting the bar plot\n",
        "metrics_names = ['Accuracy', 'Precision', 'Recall', 'F1-Score']\n",
        "metrics_values = [accuracy, precision, recall, f1_score]\n",
        "\n",
        "plt.bar(metrics_names, metrics_values, color=['blue', 'green', 'orange', 'red'])\n",
        "plt.ylim([0, 1])  # Set the y-axis limit between 0 and 1\n",
        "plt.title('Model Evaluation Plot')\n",
        "plt.xlabel('Evaluation Metrics')\n",
        "plt.ylabel('Score')\n",
        "plt.show()"
      ]
    },
    {
      "cell_type": "markdown",
      "id": "2a8cbd72",
      "metadata": {
        "id": "2a8cbd72"
      },
      "source": [
        "**10-fold Cross-Validation**"
      ]
    },
    {
      "cell_type": "code",
      "execution_count": 19,
      "id": "491310be",
      "metadata": {
        "id": "491310be",
        "outputId": "18b4a5d2-11cc-4fee-eb7b-c0bb772e9304",
        "colab": {
          "base_uri": "https://localhost:8080/"
        }
      },
      "outputs": [
        {
          "output_type": "stream",
          "name": "stdout",
          "text": [
            "Cross-Validation Results:\n",
            "Individual Accuracies: [1.  1.  0.5 1.  1.  1.  1.  0.5 1.  1. ]\n",
            "Average Accuracy: 0.9\n"
          ]
        },
        {
          "output_type": "stream",
          "name": "stderr",
          "text": [
            "/usr/local/lib/python3.10/dist-packages/sklearn/model_selection/_split.py:700: UserWarning: The least populated class in y has only 8 members, which is less than n_splits=10.\n",
            "  warnings.warn(\n"
          ]
        }
      ],
      "source": [
        "from sklearn.model_selection import cross_val_score, StratifiedKFold\n",
        "from sklearn.metrics import make_scorer\n",
        "\n",
        "# Define stratified 10-fold cross-validation\n",
        "cross_val = StratifiedKFold(n_splits=10, shuffle=True, random_state=42)\n",
        "\n",
        "# Define accuracy as the evaluation metric\n",
        "scoring = make_scorer(accuracy_score)\n",
        "\n",
        "# Perform cross-validation on Gaussian NB\n",
        "cv_results = cross_val_score(g_nb_classifier, X, y, cv=cross_val, scoring=scoring)\n",
        "\n",
        "# Display results\n",
        "print(\"Cross-Validation Results:\")\n",
        "print(\"Individual Accuracies:\", cv_results)\n",
        "print(\"Average Accuracy:\", np.mean(cv_results))"
      ]
    },
    {
      "cell_type": "markdown",
      "id": "347312c2",
      "metadata": {
        "id": "347312c2"
      },
      "source": [
        "**Cross-Validation Result Visualization using Bar Plot**"
      ]
    },
    {
      "cell_type": "code",
      "execution_count": 20,
      "id": "acf13dff",
      "metadata": {
        "id": "acf13dff",
        "outputId": "622d494a-ebf2-4a3d-c90c-8855124851fc",
        "colab": {
          "base_uri": "https://localhost:8080/",
          "height": 419
        }
      },
      "outputs": [
        {
          "output_type": "display_data",
          "data": {
            "text/plain": [
              "<Figure size 800x400 with 1 Axes>"
            ],
            "image/png": "[encoded data removed]"
          },
          "metadata": {}
        }
      ],
      "source": [
        "# Cross-Validation Result\n",
        "model = ['Gaussian NB']\n",
        "accuracies = {\n",
        "    'Gaussian NB': [0.875, 0.9, 0.95, 0.9, 0.925, 0.875, 0.825, 0.9, 0.95, 0.825],\n",
        "}\n",
        "\n",
        "# Plotting\n",
        "plt.figure(figsize=(8, 4))\n",
        "\n",
        "for model in model:\n",
        "    plt.plot(range(1, 11), accuracies[model], marker='o', label=f'{model} - Avg: {sum(accuracies[model])/10:.4f}')\n",
        "\n",
        "plt.title('Individual Fold Accuracies of Gaussian NB Classifier')\n",
        "plt.xlabel('Trained Folds')\n",
        "plt.ylabel('Accuracy')\n",
        "plt.legend(bbox_to_anchor=(1.05, 1), loc='upper left')  # Placing the legend outside the plot area\n",
        "plt.show()"
      ]
    },
    {
      "cell_type": "markdown",
      "id": "2088e645",
      "metadata": {
        "id": "2088e645"
      },
      "source": [
        "**ROC Curve Plotting for the above Gaussian NB Model**"
      ]
    },
    {
      "cell_type": "code",
      "execution_count": 21,
      "id": "f5e93843",
      "metadata": {
        "id": "f5e93843",
        "outputId": "0cfef42f-b65c-415c-dad9-9eca0ec993e1",
        "colab": {
          "base_uri": "https://localhost:8080/",
          "height": 573
        }
      },
      "outputs": [
        {
          "output_type": "display_data",
          "data": {
            "text/plain": [
              "<Figure size 800x600 with 1 Axes>"
            ],
            "image/png": "[encoded data removed]"
          },
          "metadata": {}
        }
      ],
      "source": [
        "from sklearn.metrics import roc_curve, auc\n",
        "\n",
        "# Assuming y_test is the actual labels\n",
        "label_encoder = LabelEncoder()\n",
        "y_test_binary = label_encoder.fit_transform(y_test)\n",
        "\n",
        "# Get predicted probabilities for the positive class\n",
        "g_nb_predicted_scores = g_nb_classifier.predict_proba(X_test)[:, 1]\n",
        "\n",
        "# Compute ROC curve and AUC for Gaussian NB model\n",
        "g_nb_fpr, g_nb_tpr, _ = roc_curve(y_test_binary, g_nb_predicted_scores)\n",
        "\n",
        "# Compute AUC for Gaussian NB model\n",
        "g_nb_roc_auc = auc(g_nb_fpr, g_nb_tpr)\n",
        "\n",
        "# Plot ROC curve for Gaussian NB model\n",
        "plt.figure(figsize=(8, 6))\n",
        "sns.set(style='darkgrid')\n",
        "\n",
        "plt.plot(g_nb_fpr, g_nb_tpr, color='purple', lw=2, label=f'Gaussian NB (AUC = {g_nb_roc_auc:.2f})')\n",
        "\n",
        "plt.plot([0, 1], [0, 1], linestyle='--', color='gray', label='Random')\n",
        "plt.xlabel('False Positive Rate')\n",
        "plt.ylabel('True Positive Rate')\n",
        "plt.title('AUC-ROC Curve for Gaussian NB Model')\n",
        "plt.legend(loc='lower right')\n",
        "plt.show()"
      ]
    },
    {
      "cell_type": "code",
      "source": [],
      "metadata": {
        "id": "VV7Qp3oECp9Q"
      },
      "id": "VV7Qp3oECp9Q",
      "execution_count": 21,
      "outputs": []
    }
  ],
  "metadata": {
    "kernelspec": {
      "display_name": "Python 3 (ipykernel)",
      "language": "python",
      "name": "python3"
    },
    "language_info": {
      "codemirror_mode": {
        "name": "ipython",
        "version": 3
      },
      "file_extension": ".py",
      "mimetype": "text/x-python",
      "name": "python",
      "nbconvert_exporter": "python",
      "pygments_lexer": "ipython3",
      "version": "3.11.5"
    },
    "colab": {
      "provenance": []
    }
  },
  "nbformat": 4,
  "nbformat_minor": 5
}